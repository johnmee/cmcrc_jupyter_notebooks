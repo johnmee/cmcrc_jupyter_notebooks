{
 "cells": [
  {
   "cell_type": "markdown",
   "metadata": {},
   "source": [
    "# Installing"
   ]
  },
  {
   "cell_type": "markdown",
   "metadata": {},
   "source": [
    "## Windows"
   ]
  },
  {
   "cell_type": "markdown",
   "metadata": {},
   "source": [
    "For the quickest and simplest install ever, download and install \"Anaconda\":\n",
    "\n",
    "https://www.continuum.io/downloads\n",
    "\n",
    "Click on the Conda application and you're away.\n",
    "\n",
    "Bookmark this for later:\n",
    "https://conda.io/docs/using/pkgs.html#managing-packages"
   ]
  },
  {
   "cell_type": "markdown",
   "metadata": {},
   "source": [
    "## Linux"
   ]
  },
  {
   "cell_type": "markdown",
   "metadata": {},
   "source": [
    "Windows users can do this too if they're savvy enough to use the command line:\n",
    "\n",
    "```\n",
    "$ pip install jupyter\n",
    "$ jupyter notebook\n",
    "```\n"
   ]
  },
  {
   "cell_type": "markdown",
   "metadata": {},
   "source": [
    "## What's the catch?!\n",
    "\n",
    "None.  Well excepting, some Python packages are the catch.  Most should be installable via the `pip` command (unix) or `conda install` (windows).  \n",
    "\n",
    "Some packages, which are not pure python, need to be installed via your operating system. Ie: `apt-get install` on linux.\n",
    "\n",
    "Confirm it's working by creating a notebook and running the two charts we did in the \"try\" page."
   ]
  },
  {
   "cell_type": "markdown",
   "metadata": {},
   "source": [
    "## Highcharts\n",
    "\n",
    "For example, MQDashboard uses the \"highcharts\" library to plot everything.  To deliver your case study with that charting package you need to install it:\n",
    "\n",
    "```\n",
    "$ pip install python-highcharts\n",
    "```\n",
    "\n",
    "The package lives here:\n",
    "https://github.com/kyper-data/python-highcharts  \n",
    "The documentation of all the options lives here:\n",
    "http://api.highcharts.com/highstock/"
   ]
  },
  {
   "cell_type": "markdown",
   "metadata": {},
   "source": [
    "## Virtualenv\n",
    "\n",
    "If you know what it is then feel free to use it.  Otherwise don't bother; you don't need it."
   ]
  }
 ],
 "metadata": {
  "kernelspec": {
   "display_name": "Python 2",
   "language": "python",
   "name": "python2"
  },
  "language_info": {
   "codemirror_mode": {
    "name": "ipython",
    "version": 2
   },
   "file_extension": ".py",
   "mimetype": "text/x-python",
   "name": "python",
   "nbconvert_exporter": "python",
   "pygments_lexer": "ipython2",
   "version": "2.7.12"
  }
 },
 "nbformat": 4,
 "nbformat_minor": 2
}
