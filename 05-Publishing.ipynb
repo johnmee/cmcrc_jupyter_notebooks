{
 "cells": [
  {
   "cell_type": "markdown",
   "metadata": {},
   "source": [
    "# Publishing your notebook\n",
    "\n",
    "Suppose you have your Case study finalized and want to publish it?\n",
    "\n",
    "## Save the files\n",
    "\n",
    "To capture and publish you need all the bits that make up your notebook:\n",
    "\n",
    "* the `.ipynb` file\n",
    "* the data files (`.csv`)\n",
    "* any images you used\n",
    "* the exported `HTML` file of the notebook\n",
    "\n",
    "### The ipynb file\n",
    "\n",
    "This is the notebook itself in a JSON format.  It is like the source code and is what makes it possible to run and edit the notebook on different installations of jupyter.\n",
    "\n",
    "### The data files\n",
    "\n",
    "Databases are a lot less portable than files so, whilst you don't have to, it's best if you save all the data that is presented to a file and write your notebook to import the file.  If you provide the data in files other people can download and reproduce your results and play with it in their own notebook.  Perhaps verifying your results or extending your work.\n",
    "\n",
    "### Images\n",
    "\n",
    "You can embed images into notebook. If you did they need to be saved along with the `.ipynb`.\n",
    "\n",
    "### The exported HTML\n",
    "\n",
    "All of the above files make it possible to edit and run your case study.  To publish the case study you can `freeze` it by exporting the finished product to an HTML file.  This enables people to read the case study without having, or knowing, anything about jupyter.\n",
    "\n",
    "1. File -> Download As -> HTML\n",
    "\n",
    "Try it now and save the html file to your computer.  This is what will be published.  All the above is only necessary to reproduce your results.\n",
    "\n",
    "## Try it\n",
    "\n",
    "1. Find this notebook on your file system\n",
    "1. Save it as HTML\n",
    "1. Collect all the files into a directory\n",
    "\n",
    "## Commit to \"case_studies\" repository\n",
    "\n",
    "TODO"
   ]
  },
  {
   "cell_type": "markdown",
   "metadata": {
    "collapsed": true
   },
   "source": [
    "## Disadvantages\n",
    "\n",
    "* Interactivity with the user, whilst possible, is not easy."
   ]
  }
 ],
 "metadata": {
  "kernelspec": {
   "display_name": "Python 2",
   "language": "python",
   "name": "python2"
  },
  "language_info": {
   "codemirror_mode": {
    "name": "ipython",
    "version": 2
   },
   "file_extension": ".py",
   "mimetype": "text/x-python",
   "name": "python",
   "nbconvert_exporter": "python",
   "pygments_lexer": "ipython2",
   "version": "2.7.12"
  }
 },
 "nbformat": 4,
 "nbformat_minor": 2
}
